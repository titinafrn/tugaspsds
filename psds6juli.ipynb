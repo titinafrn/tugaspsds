{
  "nbformat": 4,
  "nbformat_minor": 0,
  "metadata": {
    "colab": {
      "provenance": []
    },
    "kernelspec": {
      "name": "python3",
      "display_name": "Python 3"
    },
    "language_info": {
      "name": "python"
    }
  },
  "cells": [
    {
      "cell_type": "markdown",
      "source": [
        "**Latihan Function**"
      ],
      "metadata": {
        "id": "gu27j0ZHU6tM"
      }
    },
    {
      "cell_type": "markdown",
      "source": [
        "1. Buatlah function phytagoras dengan import argumennya panjang tinggi dan alas segitiga untuk menghasilkan output nilai panjang sisi miring"
      ],
      "metadata": {
        "id": "zXbAGNvgVDI7"
      }
    },
    {
      "cell_type": "code",
      "source": [
        "import math\n",
        "def hitung_sisi_miring(panjang_tinggi, alas):\n",
        "    sisi_miring = math.sqrt(panjang_tinggi**2 + alas**2)\n",
        "    return sisi_miring\n",
        "\n",
        "tinggi = 6\n",
        "alas = 8\n",
        "sisi_miring = hitung_sisi_miring(tinggi, alas)\n",
        "print(\"Sisi miring segitiga: \", sisi_miring)"
      ],
      "metadata": {
        "colab": {
          "base_uri": "https://localhost:8080/"
        },
        "id": "dms0--WGU6SV",
        "outputId": "385e0305-cb4d-480e-8a97-f07acdf1f72f"
      },
      "execution_count": 16,
      "outputs": [
        {
          "output_type": "stream",
          "name": "stdout",
          "text": [
            "Sisi miring segitiga:  10.0\n"
          ]
        }
      ]
    },
    {
      "cell_type": "markdown",
      "source": [
        "2. Buatlah function luas permukaan balok dengan input argumennya panjang, lebar, dan tinggi dari balok untuk menghasilkan output nilai luas permukaan balok tersebut"
      ],
      "metadata": {
        "id": "lV4T89lCV8a-"
      }
    },
    {
      "cell_type": "code",
      "source": [
        "def hitung_luas_permukaan_balok(panjang, lebar, tinggi):\n",
        "    luas_permukaan = 2 * ((panjang * lebar) + (panjang * tinggi) + (lebar * tinggi))\n",
        "    return luas_permukaan\n",
        "\n",
        "panjang = 15\n",
        "lebar = 6\n",
        "tinggi = 5\n",
        "luas = hitung_luas_permukaan_balok(panjang, lebar, tinggi)\n",
        "print(\"Luas permukaan balok:\", luas)"
      ],
      "metadata": {
        "colab": {
          "base_uri": "https://localhost:8080/"
        },
        "id": "W2N07_vGV7vV",
        "outputId": "f6eb7c84-c14a-4ddc-a797-6cae6414b54a"
      },
      "execution_count": 19,
      "outputs": [
        {
          "output_type": "stream",
          "name": "stdout",
          "text": [
            "Luas permukaan balok: 390\n"
          ]
        }
      ]
    },
    {
      "cell_type": "markdown",
      "source": [
        "**Latihan Fungsi Lambda**"
      ],
      "metadata": {
        "id": "Yfqsgn9LR-Op"
      }
    },
    {
      "cell_type": "markdown",
      "source": [
        "1. Buatlah fungsi lambda untuk menghtung fungsi dari persegi panjang"
      ],
      "metadata": {
        "id": "TNsVfNk9SIhs"
      }
    },
    {
      "cell_type": "code",
      "source": [
        "f = lambda p,l : p*l\n",
        "val = f(9,3)\n",
        "print(val)"
      ],
      "metadata": {
        "colab": {
          "base_uri": "https://localhost:8080/"
        },
        "id": "lSP5J_nsScJF",
        "outputId": "0c57f49c-b87a-4258-ae18-8718f2b18230"
      },
      "execution_count": 10,
      "outputs": [
        {
          "output_type": "stream",
          "name": "stdout",
          "text": [
            "27\n"
          ]
        }
      ]
    },
    {
      "cell_type": "markdown",
      "source": [
        "2. Buatlah fungsi lambda untuk menghitung luas segitiga"
      ],
      "metadata": {
        "id": "Ug_XNP4jTITb"
      }
    },
    {
      "cell_type": "code",
      "source": [
        "f = lambda a,t : (a*t)/2\n",
        "val = f(7,10)\n",
        "print(val)"
      ],
      "metadata": {
        "colab": {
          "base_uri": "https://localhost:8080/"
        },
        "id": "4EJFzl8SRyFD",
        "outputId": "7daef991-45ee-4e60-8837-81a26bde4efe"
      },
      "execution_count": 11,
      "outputs": [
        {
          "output_type": "stream",
          "name": "stdout",
          "text": [
            "35.0\n"
          ]
        }
      ]
    }
  ]
}